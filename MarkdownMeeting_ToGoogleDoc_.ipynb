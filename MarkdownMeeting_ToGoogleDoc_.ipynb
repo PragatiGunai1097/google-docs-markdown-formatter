{
  "nbformat": 4,
  "nbformat_minor": 0,
  "metadata": {
    "colab": {
      "provenance": []
    },
    "kernelspec": {
      "name": "python3",
      "display_name": "Python 3"
    },
    "language_info": {
      "name": "python"
    }
  },
  "cells": [
    {
      "cell_type": "code",
      "source": [
        "!pip install google-auth google-auth-oauthlib google-auth-httplib2 google-api-python-client\n"
      ],
      "metadata": {
        "colab": {
          "base_uri": "https://localhost:8080/"
        },
        "collapsed": true,
        "id": "Kw4IMVSbhsA7",
        "outputId": "65412a8e-1654-4262-d069-d57b88ac7863"
      },
      "execution_count": 20,
      "outputs": [
        {
          "output_type": "stream",
          "name": "stdout",
          "text": [
            "Requirement already satisfied: google-auth in /usr/local/lib/python3.11/dist-packages (2.27.0)\n",
            "Requirement already satisfied: google-auth-oauthlib in /usr/local/lib/python3.11/dist-packages (1.2.1)\n",
            "Requirement already satisfied: google-auth-httplib2 in /usr/local/lib/python3.11/dist-packages (0.2.0)\n",
            "Requirement already satisfied: google-api-python-client in /usr/local/lib/python3.11/dist-packages (2.155.0)\n",
            "Requirement already satisfied: cachetools<6.0,>=2.0.0 in /usr/local/lib/python3.11/dist-packages (from google-auth) (5.5.1)\n",
            "Requirement already satisfied: pyasn1-modules>=0.2.1 in /usr/local/lib/python3.11/dist-packages (from google-auth) (0.4.1)\n",
            "Requirement already satisfied: rsa<5,>=3.1.4 in /usr/local/lib/python3.11/dist-packages (from google-auth) (4.9)\n",
            "Requirement already satisfied: requests-oauthlib>=0.7.0 in /usr/local/lib/python3.11/dist-packages (from google-auth-oauthlib) (1.3.1)\n",
            "Requirement already satisfied: httplib2>=0.19.0 in /usr/local/lib/python3.11/dist-packages (from google-auth-httplib2) (0.22.0)\n",
            "Requirement already satisfied: google-api-core!=2.0.*,!=2.1.*,!=2.2.*,!=2.3.0,<3.0.0.dev0,>=1.31.5 in /usr/local/lib/python3.11/dist-packages (from google-api-python-client) (2.19.2)\n",
            "Requirement already satisfied: uritemplate<5,>=3.0.1 in /usr/local/lib/python3.11/dist-packages (from google-api-python-client) (4.1.1)\n",
            "Requirement already satisfied: googleapis-common-protos<2.0.dev0,>=1.56.2 in /usr/local/lib/python3.11/dist-packages (from google-api-core!=2.0.*,!=2.1.*,!=2.2.*,!=2.3.0,<3.0.0.dev0,>=1.31.5->google-api-python-client) (1.66.0)\n",
            "Requirement already satisfied: protobuf!=3.20.0,!=3.20.1,!=4.21.0,!=4.21.1,!=4.21.2,!=4.21.3,!=4.21.4,!=4.21.5,<6.0.0.dev0,>=3.19.5 in /usr/local/lib/python3.11/dist-packages (from google-api-core!=2.0.*,!=2.1.*,!=2.2.*,!=2.3.0,<3.0.0.dev0,>=1.31.5->google-api-python-client) (4.25.5)\n",
            "Requirement already satisfied: proto-plus<2.0.0dev,>=1.22.3 in /usr/local/lib/python3.11/dist-packages (from google-api-core!=2.0.*,!=2.1.*,!=2.2.*,!=2.3.0,<3.0.0.dev0,>=1.31.5->google-api-python-client) (1.25.0)\n",
            "Requirement already satisfied: requests<3.0.0.dev0,>=2.18.0 in /usr/local/lib/python3.11/dist-packages (from google-api-core!=2.0.*,!=2.1.*,!=2.2.*,!=2.3.0,<3.0.0.dev0,>=1.31.5->google-api-python-client) (2.32.3)\n",
            "Requirement already satisfied: pyparsing!=3.0.0,!=3.0.1,!=3.0.2,!=3.0.3,<4,>=2.4.2 in /usr/local/lib/python3.11/dist-packages (from httplib2>=0.19.0->google-auth-httplib2) (3.2.1)\n",
            "Requirement already satisfied: pyasn1<0.7.0,>=0.4.6 in /usr/local/lib/python3.11/dist-packages (from pyasn1-modules>=0.2.1->google-auth) (0.6.1)\n",
            "Requirement already satisfied: oauthlib>=3.0.0 in /usr/local/lib/python3.11/dist-packages (from requests-oauthlib>=0.7.0->google-auth-oauthlib) (3.2.2)\n",
            "Requirement already satisfied: charset-normalizer<4,>=2 in /usr/local/lib/python3.11/dist-packages (from requests<3.0.0.dev0,>=2.18.0->google-api-core!=2.0.*,!=2.1.*,!=2.2.*,!=2.3.0,<3.0.0.dev0,>=1.31.5->google-api-python-client) (3.4.1)\n",
            "Requirement already satisfied: idna<4,>=2.5 in /usr/local/lib/python3.11/dist-packages (from requests<3.0.0.dev0,>=2.18.0->google-api-core!=2.0.*,!=2.1.*,!=2.2.*,!=2.3.0,<3.0.0.dev0,>=1.31.5->google-api-python-client) (3.10)\n",
            "Requirement already satisfied: urllib3<3,>=1.21.1 in /usr/local/lib/python3.11/dist-packages (from requests<3.0.0.dev0,>=2.18.0->google-api-core!=2.0.*,!=2.1.*,!=2.2.*,!=2.3.0,<3.0.0.dev0,>=1.31.5->google-api-python-client) (2.3.0)\n",
            "Requirement already satisfied: certifi>=2017.4.17 in /usr/local/lib/python3.11/dist-packages (from requests<3.0.0.dev0,>=2.18.0->google-api-core!=2.0.*,!=2.1.*,!=2.2.*,!=2.3.0,<3.0.0.dev0,>=1.31.5->google-api-python-client) (2024.12.14)\n"
          ]
        }
      ]
    },
    {
      "cell_type": "code",
      "source": [
        "from google.colab import auth\n",
        "from googleapiclient.discovery import build\n",
        "from googleapiclient.errors import HttpError\n",
        "from google.oauth2.service_account import Credentials\n",
        "\n",
        "# Path to your JSON service account key file\n",
        "SERVICE_ACCOUNT_FILE = '/content/software-engineer-assesments-0154df747a2c.json'\n",
        "\n",
        "# Define the required scopes\n",
        "SCOPES = ['https://www.googleapis.com/auth/documents']\n",
        "\n",
        "# Authenticate using the service account\n",
        "credentials = Credentials.from_service_account_file(SERVICE_ACCOUNT_FILE, scopes=SCOPES)\n",
        "\n",
        "# Initialize the Google Docs API with the authenticated credentials\n",
        "docs_service = build('docs', 'v1', credentials=credentials)\n"
      ],
      "metadata": {
        "id": "WtrDuJ97_rZi"
      },
      "execution_count": 21,
      "outputs": []
    },
    {
      "cell_type": "markdown",
      "source": [
        "[link text](https://)"
      ],
      "metadata": {
        "id": "RQHyi25q1uXB"
      }
    },
    {
      "cell_type": "code",
      "source": [
        "\n",
        "# Step 1: Authenticate with Google Docs API\n",
        "from google.colab import auth\n",
        "from googleapiclient.discovery import build\n",
        "from googleapiclient.errors import HttpError\n",
        "import markdown\n",
        "\n",
        "# Authenticate the user\n",
        "auth.authenticate_user()\n",
        "\n",
        "# Initialize the Google Docs API\n",
        "docs_service = build('docs', 'v1')\n",
        "\n",
        "# Step 2: Markdown content\n",
        "markdown_content = \"\"\"\n",
        "# Product Team Sync - May 15, 2023\n",
        "\n",
        "## Attendees\n",
        "- Sarah Chen (Product Lead)\n",
        "- Mike Johnson (Engineering)\n",
        "- Anna Smith (Design)\n",
        "- David Park (QA)\n",
        "\n",
        "## Agenda\n",
        "\n",
        "### 1. Sprint Review\n",
        "* Completed Features\n",
        "  * User authentication flow\n",
        "  * Dashboard redesign\n",
        "  * Performance optimization\n",
        "    * Reduced load time by 40%\n",
        "    * Implemented caching solution\n",
        "* Pending Items\n",
        "  * Mobile responsive fixes\n",
        "  * Beta testing feedback integration\n",
        "\n",
        "### 2. Current Challenges\n",
        "* Resource constraints in QA team\n",
        "* Third-party API integration delays\n",
        "* User feedback on new UI\n",
        "  * Navigation confusion\n",
        "  * Color contrast issues\n",
        "\n",
        "### 3. Next Sprint Planning\n",
        "* Priority Features\n",
        "  * Payment gateway integration\n",
        "  * User profile enhancement\n",
        "  * Analytics dashboard\n",
        "* Technical Debt\n",
        "  * Code refactoring\n",
        "  * Documentation updates\n",
        "\n",
        "## Action Items\n",
        "- [ ] @sarah: Finalize Q3 roadmap by Friday\n",
        "- [ ] @mike: Schedule technical review for payment integration\n",
        "- [ ] @anna: Share updated design system documentation\n",
        "- [ ] @david: Prepare QA resource allocation proposal\n",
        "\n",
        "## Next Steps\n",
        "* Schedule individual team reviews\n",
        "* Update sprint board\n",
        "* Share meeting summary with stakeholders\n",
        "\n",
        "## Notes\n",
        "* Next sync scheduled for May 22, 2023\n",
        "* Platform demo for stakeholders on May 25\n",
        "* Remember to update JIRA tickets\n",
        "\n",
        "---\n",
        "Meeting recorded by: Sarah Chen\n",
        "Duration: 45 minutes.\n",
        "\"\"\"\n",
        "\n",
        "# Step 3: Parse markdown to structure content\n",
        "def markdown_to_requests(md_content):\n",
        "    lines = md_content.split(\"\\n\")\n",
        "    requests = []\n",
        "    index = 1\n",
        "\n",
        "    for line in lines:\n",
        "        if line.startswith(\"# \"):  # Heading 1\n",
        "            requests.append({\"insertText\": {\"location\": {\"index\": index}, \"text\": line[2:] + \"\\n\"}})\n",
        "            index += len(line[2:]) + 1\n",
        "            requests.append({\n",
        "                \"updateTextStyle\": {\n",
        "                    \"range\": {\"startIndex\": index - len(line[2:]) - 1, \"endIndex\": index - 1},\n",
        "                    \"textStyle\": {\"bold\": True, \"fontSize\": {\"magnitude\": 24, \"unit\": \"PT\"}},\n",
        "                    \"fields\": \"bold,fontSize\"\n",
        "                }\n",
        "            })\n",
        "        elif line.startswith(\"## \"):  # Heading 2\n",
        "            requests.append({\"insertText\": {\"location\": {\"index\": index}, \"text\": line[3:] + \"\\n\"}})\n",
        "            index += len(line[3:]) + 1\n",
        "            requests.append({\n",
        "                \"updateTextStyle\": {\n",
        "                    \"range\": {\"startIndex\": index - len(line[3:]) - 1, \"endIndex\": index - 1},\n",
        "                    \"textStyle\": {\"bold\": True, \"fontSize\": {\"magnitude\": 18, \"unit\": \"PT\"}},\n",
        "                    \"fields\": \"bold,fontSize\"\n",
        "                }\n",
        "            })\n",
        "        elif line.startswith(\"### \"):  # Heading 3\n",
        "            requests.append({\"insertText\": {\"location\": {\"index\": index}, \"text\": line[4:] + \"\\n\"}})\n",
        "            index += len(line[4:]) + 1\n",
        "            requests.append({\n",
        "                \"updateTextStyle\": {\n",
        "                    \"range\": {\"startIndex\": index - len(line[4:]) - 1, \"endIndex\": index - 1},\n",
        "                    \"textStyle\": {\"bold\": True, \"fontSize\": {\"magnitude\": 16, \"unit\": \"PT\"}},\n",
        "                    \"fields\": \"bold,fontSize\"\n",
        "                }\n",
        "            })\n",
        "        elif line.startswith(\"- [ ]\"):  # Checkboxes\n",
        "            requests.append({\"insertText\": {\"location\": {\"index\": index}, \"text\": \"☐ \" + line[6:] + \"\\n\"}})\n",
        "            index += len(\"☐ \" + line[6:]) + 1\n",
        "        elif line.startswith(\"- \"):  # Bullet points\n",
        "            requests.append({\"insertText\": {\"location\": {\"index\": index}, \"text\": \"• \" + line[2:] + \"\\n\"}})\n",
        "            index += len(\"• \" + line[2:]) + 1\n",
        "        elif line.strip():  # Normal text\n",
        "            requests.append({\"insertText\": {\"location\": {\"index\": index}, \"text\": line + \"\\n\"}})\n",
        "            index += len(line) + 1\n",
        "        else:  # Blank lines\n",
        "            requests.append({\"insertText\": {\"location\": {\"index\": index}, \"text\": \"\\n\"}})\n",
        "            index += 1\n",
        "\n",
        "    return requests\n",
        "\n",
        "# Convert the markdown content into Google Docs API requests\n",
        "requests = markdown_to_requests(markdown_content)\n",
        "\n",
        "# Step 4: Create and update the Google Doc\n",
        "try:\n",
        "    # Create a new Google Doc\n",
        "    document = docs_service.documents().create(body={\"title\": \"Product Team Sync\"}).execute()\n",
        "    document_id = document.get('documentId')\n",
        "\n",
        "    # Update the document with the markdown content\n",
        "    docs_service.documents().batchUpdate(documentId=document_id, body={\"requests\": requests}).execute()\n",
        "\n",
        "    print(f\"Document created successfully! View it here: https://docs.google.com/document/d/{document_id}/edit\")\n",
        "\n",
        "except HttpError as error:\n",
        "    print(f\"An error occurred: {error}\")\n"
      ],
      "metadata": {
        "colab": {
          "base_uri": "https://localhost:8080/"
        },
        "id": "Uh2oE0fKzhDl",
        "outputId": "a2b1a706-227f-4f0a-ff58-bc0512fd68a1"
      },
      "execution_count": 22,
      "outputs": [
        {
          "output_type": "stream",
          "name": "stdout",
          "text": [
            "Document created successfully! View it here: https://docs.google.com/document/d/19QxlduwoyvcE3-sZG1Wd-fxe3UJJ9OF5D4MPugPShPM/edit\n"
          ]
        }
      ]
    }
  ]
}